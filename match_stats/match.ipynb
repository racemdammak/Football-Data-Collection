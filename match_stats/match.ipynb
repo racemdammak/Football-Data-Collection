{
 "cells": [
  {
   "cell_type": "code",
   "execution_count": 39,
   "metadata": {},
   "outputs": [],
   "source": [
    "import pandas as pd"
   ]
  },
  {
   "cell_type": "code",
   "execution_count": 40,
   "metadata": {},
   "outputs": [],
   "source": [
    "home = \"MCI\"\n",
    "away = \"RMA\""
   ]
  },
  {
   "cell_type": "code",
   "execution_count": 41,
   "metadata": {},
   "outputs": [
    {
     "data": {
      "text/html": [
       "<div>\n",
       "<style scoped>\n",
       "    .dataframe tbody tr th:only-of-type {\n",
       "        vertical-align: middle;\n",
       "    }\n",
       "\n",
       "    .dataframe tbody tr th {\n",
       "        vertical-align: top;\n",
       "    }\n",
       "\n",
       "    .dataframe thead th {\n",
       "        text-align: right;\n",
       "    }\n",
       "</style>\n",
       "<table border=\"1\" class=\"dataframe\">\n",
       "  <thead>\n",
       "    <tr style=\"text-align: right;\">\n",
       "      <th></th>\n",
       "      <th>Team</th>\n",
       "      <th>Player</th>\n",
       "      <th>Event</th>\n",
       "    </tr>\n",
       "  </thead>\n",
       "  <tbody>\n",
       "    <tr>\n",
       "      <th>0</th>\n",
       "      <td>MCI</td>\n",
       "      <td>B.Silva</td>\n",
       "      <td>Passe Precise</td>\n",
       "    </tr>\n",
       "    <tr>\n",
       "      <th>1</th>\n",
       "      <td>MCI</td>\n",
       "      <td>Ederson</td>\n",
       "      <td>Passe Precise</td>\n",
       "    </tr>\n",
       "    <tr>\n",
       "      <th>2</th>\n",
       "      <td>MCI</td>\n",
       "      <td>R.Dias</td>\n",
       "      <td>Passe Precise</td>\n",
       "    </tr>\n",
       "    <tr>\n",
       "      <th>3</th>\n",
       "      <td>MCI</td>\n",
       "      <td>M.Akanji</td>\n",
       "      <td>Passe Precise</td>\n",
       "    </tr>\n",
       "    <tr>\n",
       "      <th>4</th>\n",
       "      <td>MCI</td>\n",
       "      <td>R.Dias</td>\n",
       "      <td>Passe Precise</td>\n",
       "    </tr>\n",
       "  </tbody>\n",
       "</table>\n",
       "</div>"
      ],
      "text/plain": [
       "  Team    Player          Event\n",
       "0  MCI   B.Silva  Passe Precise\n",
       "1  MCI   Ederson  Passe Precise\n",
       "2  MCI    R.Dias  Passe Precise\n",
       "3  MCI  M.Akanji  Passe Precise\n",
       "4  MCI    R.Dias  Passe Precise"
      ]
     },
     "execution_count": 41,
     "metadata": {},
     "output_type": "execute_result"
    }
   ],
   "source": [
    "df = pd.read_csv(\"stats.csv\")\n",
    "df.head()"
   ]
  },
  {
   "cell_type": "code",
   "execution_count": 42,
   "metadata": {},
   "outputs": [
    {
     "data": {
      "text/html": [
       "<div>\n",
       "<style scoped>\n",
       "    .dataframe tbody tr th:only-of-type {\n",
       "        vertical-align: middle;\n",
       "    }\n",
       "\n",
       "    .dataframe tbody tr th {\n",
       "        vertical-align: top;\n",
       "    }\n",
       "\n",
       "    .dataframe thead th {\n",
       "        text-align: right;\n",
       "    }\n",
       "</style>\n",
       "<table border=\"1\" class=\"dataframe\">\n",
       "  <thead>\n",
       "    <tr style=\"text-align: right;\">\n",
       "      <th></th>\n",
       "      <th>Player</th>\n",
       "      <th>Event</th>\n",
       "    </tr>\n",
       "  </thead>\n",
       "  <tbody>\n",
       "    <tr>\n",
       "      <th>0</th>\n",
       "      <td>B.Silva</td>\n",
       "      <td>Passe Precise</td>\n",
       "    </tr>\n",
       "    <tr>\n",
       "      <th>1</th>\n",
       "      <td>Ederson</td>\n",
       "      <td>Passe Precise</td>\n",
       "    </tr>\n",
       "    <tr>\n",
       "      <th>2</th>\n",
       "      <td>R.Dias</td>\n",
       "      <td>Passe Precise</td>\n",
       "    </tr>\n",
       "    <tr>\n",
       "      <th>3</th>\n",
       "      <td>M.Akanji</td>\n",
       "      <td>Passe Precise</td>\n",
       "    </tr>\n",
       "    <tr>\n",
       "      <th>4</th>\n",
       "      <td>R.Dias</td>\n",
       "      <td>Passe Precise</td>\n",
       "    </tr>\n",
       "    <tr>\n",
       "      <th>...</th>\n",
       "      <td>...</td>\n",
       "      <td>...</td>\n",
       "    </tr>\n",
       "    <tr>\n",
       "      <th>571</th>\n",
       "      <td>J.Bellingham</td>\n",
       "      <td>Dribble</td>\n",
       "    </tr>\n",
       "    <tr>\n",
       "      <th>572</th>\n",
       "      <td>J.Bellingham</td>\n",
       "      <td>Passe Precise</td>\n",
       "    </tr>\n",
       "    <tr>\n",
       "      <th>573</th>\n",
       "      <td>E.Camavinga</td>\n",
       "      <td>Passe Precise</td>\n",
       "    </tr>\n",
       "    <tr>\n",
       "      <th>574</th>\n",
       "      <td>ViniciusJR</td>\n",
       "      <td>Perte de Ball</td>\n",
       "    </tr>\n",
       "    <tr>\n",
       "      <th>575</th>\n",
       "      <td>M.Akanji</td>\n",
       "      <td>Interception</td>\n",
       "    </tr>\n",
       "  </tbody>\n",
       "</table>\n",
       "<p>576 rows × 2 columns</p>\n",
       "</div>"
      ],
      "text/plain": [
       "           Player          Event\n",
       "0         B.Silva  Passe Precise\n",
       "1         Ederson  Passe Precise\n",
       "2          R.Dias  Passe Precise\n",
       "3        M.Akanji  Passe Precise\n",
       "4          R.Dias  Passe Precise\n",
       "..            ...            ...\n",
       "571  J.Bellingham        Dribble\n",
       "572  J.Bellingham  Passe Precise\n",
       "573   E.Camavinga  Passe Precise\n",
       "574    ViniciusJR  Perte de Ball\n",
       "575      M.Akanji   Interception\n",
       "\n",
       "[576 rows x 2 columns]"
      ]
     },
     "execution_count": 42,
     "metadata": {},
     "output_type": "execute_result"
    }
   ],
   "source": [
    "player_event = df[[\"Player\", \"Event\"]]\n",
    "player_event"
   ]
  },
  {
   "cell_type": "markdown",
   "metadata": {},
   "source": [
    "# Pour Obtenir les stats d'un joueur spécifique"
   ]
  },
  {
   "cell_type": "markdown",
   "metadata": {},
   "source": [
    "K_Mbappe = []\n",
    "\n",
    "for index, player in df.iterrows():\n",
    "    if player['Player'] == \"K.Mbappe\":\n",
    "        K_Mbappe.append(player['Event'])\n",
    "K_Mbappe"
   ]
  },
  {
   "cell_type": "markdown",
   "metadata": {},
   "source": [
    "# Pour obtenir le nombre des Passes"
   ]
  },
  {
   "cell_type": "code",
   "execution_count": 43,
   "metadata": {},
   "outputs": [],
   "source": [
    "types_de_passe = [\"Passe Precise\", \"Passe Perdue\", \"Longue Passe Precise\", \"Longue Passe Perdue\",\n",
    "                \"Passe en Profondeur\",\"Centrage Precis\", \"Centrage non Precis\", \"Assiste\"]"
   ]
  },
  {
   "cell_type": "code",
   "execution_count": 44,
   "metadata": {},
   "outputs": [
    {
     "data": {
      "text/html": [
       "<div>\n",
       "<style scoped>\n",
       "    .dataframe tbody tr th:only-of-type {\n",
       "        vertical-align: middle;\n",
       "    }\n",
       "\n",
       "    .dataframe tbody tr th {\n",
       "        vertical-align: top;\n",
       "    }\n",
       "\n",
       "    .dataframe thead th {\n",
       "        text-align: right;\n",
       "    }\n",
       "</style>\n",
       "<table border=\"1\" class=\"dataframe\">\n",
       "  <thead>\n",
       "    <tr style=\"text-align: right;\">\n",
       "      <th></th>\n",
       "      <th>Team</th>\n",
       "      <th>Player</th>\n",
       "      <th>Event</th>\n",
       "    </tr>\n",
       "  </thead>\n",
       "  <tbody>\n",
       "    <tr>\n",
       "      <th>0</th>\n",
       "      <td>MCI</td>\n",
       "      <td>B.Silva</td>\n",
       "      <td>Passe Precise</td>\n",
       "    </tr>\n",
       "    <tr>\n",
       "      <th>1</th>\n",
       "      <td>MCI</td>\n",
       "      <td>Ederson</td>\n",
       "      <td>Passe Precise</td>\n",
       "    </tr>\n",
       "    <tr>\n",
       "      <th>2</th>\n",
       "      <td>MCI</td>\n",
       "      <td>R.Dias</td>\n",
       "      <td>Passe Precise</td>\n",
       "    </tr>\n",
       "    <tr>\n",
       "      <th>3</th>\n",
       "      <td>MCI</td>\n",
       "      <td>M.Akanji</td>\n",
       "      <td>Passe Precise</td>\n",
       "    </tr>\n",
       "    <tr>\n",
       "      <th>4</th>\n",
       "      <td>MCI</td>\n",
       "      <td>R.Dias</td>\n",
       "      <td>Passe Precise</td>\n",
       "    </tr>\n",
       "    <tr>\n",
       "      <th>...</th>\n",
       "      <td>...</td>\n",
       "      <td>...</td>\n",
       "      <td>...</td>\n",
       "    </tr>\n",
       "    <tr>\n",
       "      <th>511</th>\n",
       "      <td>MCI</td>\n",
       "      <td>Savinho</td>\n",
       "      <td>Longue Passe Perdue</td>\n",
       "    </tr>\n",
       "    <tr>\n",
       "      <th>555</th>\n",
       "      <td>MCI</td>\n",
       "      <td>R.Dias</td>\n",
       "      <td>Passe Precise</td>\n",
       "    </tr>\n",
       "    <tr>\n",
       "      <th>556</th>\n",
       "      <td>MCI</td>\n",
       "      <td>K.DeBruyne</td>\n",
       "      <td>Passe Perdue</td>\n",
       "    </tr>\n",
       "    <tr>\n",
       "      <th>558</th>\n",
       "      <td>MCI</td>\n",
       "      <td>R.Dias</td>\n",
       "      <td>Longue Passe Perdue</td>\n",
       "    </tr>\n",
       "    <tr>\n",
       "      <th>568</th>\n",
       "      <td>MCI</td>\n",
       "      <td>Ederson</td>\n",
       "      <td>Longue Passe Precise</td>\n",
       "    </tr>\n",
       "  </tbody>\n",
       "</table>\n",
       "<p>255 rows × 3 columns</p>\n",
       "</div>"
      ],
      "text/plain": [
       "    Team      Player                 Event\n",
       "0    MCI     B.Silva         Passe Precise\n",
       "1    MCI     Ederson         Passe Precise\n",
       "2    MCI      R.Dias         Passe Precise\n",
       "3    MCI    M.Akanji         Passe Precise\n",
       "4    MCI      R.Dias         Passe Precise\n",
       "..   ...         ...                   ...\n",
       "511  MCI     Savinho   Longue Passe Perdue\n",
       "555  MCI      R.Dias         Passe Precise\n",
       "556  MCI  K.DeBruyne          Passe Perdue\n",
       "558  MCI      R.Dias   Longue Passe Perdue\n",
       "568  MCI     Ederson  Longue Passe Precise\n",
       "\n",
       "[255 rows x 3 columns]"
      ]
     },
     "execution_count": 44,
     "metadata": {},
     "output_type": "execute_result"
    }
   ],
   "source": [
    "passes_Home = df[(df['Team'] == home) & (df['Event'].isin(types_de_passe))]\n",
    "passes_Home"
   ]
  },
  {
   "cell_type": "code",
   "execution_count": 45,
   "metadata": {},
   "outputs": [
    {
     "data": {
      "text/html": [
       "<div>\n",
       "<style scoped>\n",
       "    .dataframe tbody tr th:only-of-type {\n",
       "        vertical-align: middle;\n",
       "    }\n",
       "\n",
       "    .dataframe tbody tr th {\n",
       "        vertical-align: top;\n",
       "    }\n",
       "\n",
       "    .dataframe thead th {\n",
       "        text-align: right;\n",
       "    }\n",
       "</style>\n",
       "<table border=\"1\" class=\"dataframe\">\n",
       "  <thead>\n",
       "    <tr style=\"text-align: right;\">\n",
       "      <th></th>\n",
       "      <th>Team</th>\n",
       "      <th>Player</th>\n",
       "      <th>Event</th>\n",
       "    </tr>\n",
       "  </thead>\n",
       "  <tbody>\n",
       "    <tr>\n",
       "      <th>12</th>\n",
       "      <td>RMA</td>\n",
       "      <td>F.Valverde</td>\n",
       "      <td>Passe Precise</td>\n",
       "    </tr>\n",
       "    <tr>\n",
       "      <th>13</th>\n",
       "      <td>RMA</td>\n",
       "      <td>E.Camavinga</td>\n",
       "      <td>Passe Precise</td>\n",
       "    </tr>\n",
       "    <tr>\n",
       "      <th>14</th>\n",
       "      <td>RMA</td>\n",
       "      <td>Rodrgyo</td>\n",
       "      <td>Longue Passe Perdue</td>\n",
       "    </tr>\n",
       "    <tr>\n",
       "      <th>26</th>\n",
       "      <td>RMA</td>\n",
       "      <td>Rodrgyo</td>\n",
       "      <td>Passe Precise</td>\n",
       "    </tr>\n",
       "    <tr>\n",
       "      <th>27</th>\n",
       "      <td>RMA</td>\n",
       "      <td>J.Bellingham</td>\n",
       "      <td>Longue Passe Precise</td>\n",
       "    </tr>\n",
       "    <tr>\n",
       "      <th>...</th>\n",
       "      <td>...</td>\n",
       "      <td>...</td>\n",
       "      <td>...</td>\n",
       "    </tr>\n",
       "    <tr>\n",
       "      <th>563</th>\n",
       "      <td>RMA</td>\n",
       "      <td>D.Ceballos</td>\n",
       "      <td>Longue Passe Precise</td>\n",
       "    </tr>\n",
       "    <tr>\n",
       "      <th>564</th>\n",
       "      <td>RMA</td>\n",
       "      <td>Rodrgyo</td>\n",
       "      <td>Passe Precise</td>\n",
       "    </tr>\n",
       "    <tr>\n",
       "      <th>570</th>\n",
       "      <td>RMA</td>\n",
       "      <td>D.Ceballos</td>\n",
       "      <td>Passe Precise</td>\n",
       "    </tr>\n",
       "    <tr>\n",
       "      <th>572</th>\n",
       "      <td>RMA</td>\n",
       "      <td>J.Bellingham</td>\n",
       "      <td>Passe Precise</td>\n",
       "    </tr>\n",
       "    <tr>\n",
       "      <th>573</th>\n",
       "      <td>RMA</td>\n",
       "      <td>E.Camavinga</td>\n",
       "      <td>Passe Precise</td>\n",
       "    </tr>\n",
       "  </tbody>\n",
       "</table>\n",
       "<p>196 rows × 3 columns</p>\n",
       "</div>"
      ],
      "text/plain": [
       "    Team        Player                 Event\n",
       "12   RMA    F.Valverde         Passe Precise\n",
       "13   RMA   E.Camavinga         Passe Precise\n",
       "14   RMA       Rodrgyo   Longue Passe Perdue\n",
       "26   RMA       Rodrgyo         Passe Precise\n",
       "27   RMA  J.Bellingham  Longue Passe Precise\n",
       "..   ...           ...                   ...\n",
       "563  RMA    D.Ceballos  Longue Passe Precise\n",
       "564  RMA       Rodrgyo         Passe Precise\n",
       "570  RMA    D.Ceballos         Passe Precise\n",
       "572  RMA  J.Bellingham         Passe Precise\n",
       "573  RMA   E.Camavinga         Passe Precise\n",
       "\n",
       "[196 rows x 3 columns]"
      ]
     },
     "execution_count": 45,
     "metadata": {},
     "output_type": "execute_result"
    }
   ],
   "source": [
    "passes_Away = df[(df['Team'] == away) & (df['Event'].isin(types_de_passe))]\n",
    "passes_Away"
   ]
  },
  {
   "cell_type": "code",
   "execution_count": 46,
   "metadata": {},
   "outputs": [
    {
     "data": {
      "text/html": [
       "<div>\n",
       "<style scoped>\n",
       "    .dataframe tbody tr th:only-of-type {\n",
       "        vertical-align: middle;\n",
       "    }\n",
       "\n",
       "    .dataframe tbody tr th {\n",
       "        vertical-align: top;\n",
       "    }\n",
       "\n",
       "    .dataframe thead th {\n",
       "        text-align: right;\n",
       "    }\n",
       "</style>\n",
       "<table border=\"1\" class=\"dataframe\">\n",
       "  <thead>\n",
       "    <tr style=\"text-align: right;\">\n",
       "      <th></th>\n",
       "      <th>Team</th>\n",
       "      <th>Player</th>\n",
       "      <th>Event</th>\n",
       "    </tr>\n",
       "  </thead>\n",
       "  <tbody>\n",
       "    <tr>\n",
       "      <th>0</th>\n",
       "      <td>MCI</td>\n",
       "      <td>B.Silva</td>\n",
       "      <td>Passe Precise</td>\n",
       "    </tr>\n",
       "    <tr>\n",
       "      <th>1</th>\n",
       "      <td>MCI</td>\n",
       "      <td>Ederson</td>\n",
       "      <td>Passe Precise</td>\n",
       "    </tr>\n",
       "    <tr>\n",
       "      <th>2</th>\n",
       "      <td>MCI</td>\n",
       "      <td>R.Dias</td>\n",
       "      <td>Passe Precise</td>\n",
       "    </tr>\n",
       "    <tr>\n",
       "      <th>3</th>\n",
       "      <td>MCI</td>\n",
       "      <td>M.Akanji</td>\n",
       "      <td>Passe Precise</td>\n",
       "    </tr>\n",
       "    <tr>\n",
       "      <th>4</th>\n",
       "      <td>MCI</td>\n",
       "      <td>R.Dias</td>\n",
       "      <td>Passe Precise</td>\n",
       "    </tr>\n",
       "    <tr>\n",
       "      <th>...</th>\n",
       "      <td>...</td>\n",
       "      <td>...</td>\n",
       "      <td>...</td>\n",
       "    </tr>\n",
       "    <tr>\n",
       "      <th>497</th>\n",
       "      <td>MCI</td>\n",
       "      <td>N.Ake</td>\n",
       "      <td>Passe Precise</td>\n",
       "    </tr>\n",
       "    <tr>\n",
       "      <th>498</th>\n",
       "      <td>MCI</td>\n",
       "      <td>R.Dias</td>\n",
       "      <td>Passe Precise</td>\n",
       "    </tr>\n",
       "    <tr>\n",
       "      <th>499</th>\n",
       "      <td>MCI</td>\n",
       "      <td>N.Ake</td>\n",
       "      <td>Passe Precise</td>\n",
       "    </tr>\n",
       "    <tr>\n",
       "      <th>500</th>\n",
       "      <td>MCI</td>\n",
       "      <td>R.Dias</td>\n",
       "      <td>Passe Precise</td>\n",
       "    </tr>\n",
       "    <tr>\n",
       "      <th>555</th>\n",
       "      <td>MCI</td>\n",
       "      <td>R.Dias</td>\n",
       "      <td>Passe Precise</td>\n",
       "    </tr>\n",
       "  </tbody>\n",
       "</table>\n",
       "<p>223 rows × 3 columns</p>\n",
       "</div>"
      ],
      "text/plain": [
       "    Team    Player          Event\n",
       "0    MCI   B.Silva  Passe Precise\n",
       "1    MCI   Ederson  Passe Precise\n",
       "2    MCI    R.Dias  Passe Precise\n",
       "3    MCI  M.Akanji  Passe Precise\n",
       "4    MCI    R.Dias  Passe Precise\n",
       "..   ...       ...            ...\n",
       "497  MCI     N.Ake  Passe Precise\n",
       "498  MCI    R.Dias  Passe Precise\n",
       "499  MCI     N.Ake  Passe Precise\n",
       "500  MCI    R.Dias  Passe Precise\n",
       "555  MCI    R.Dias  Passe Precise\n",
       "\n",
       "[223 rows x 3 columns]"
      ]
     },
     "execution_count": 46,
     "metadata": {},
     "output_type": "execute_result"
    }
   ],
   "source": [
    "passes_precis_Home = passes_Home[passes_Home[\"Event\"] == \"Passe Precise\"]\n",
    "passes_precis_Home"
   ]
  },
  {
   "cell_type": "code",
   "execution_count": 47,
   "metadata": {},
   "outputs": [
    {
     "data": {
      "text/html": [
       "<div>\n",
       "<style scoped>\n",
       "    .dataframe tbody tr th:only-of-type {\n",
       "        vertical-align: middle;\n",
       "    }\n",
       "\n",
       "    .dataframe tbody tr th {\n",
       "        vertical-align: top;\n",
       "    }\n",
       "\n",
       "    .dataframe thead th {\n",
       "        text-align: right;\n",
       "    }\n",
       "</style>\n",
       "<table border=\"1\" class=\"dataframe\">\n",
       "  <thead>\n",
       "    <tr style=\"text-align: right;\">\n",
       "      <th></th>\n",
       "      <th>Team</th>\n",
       "      <th>Player</th>\n",
       "      <th>Event</th>\n",
       "    </tr>\n",
       "  </thead>\n",
       "  <tbody>\n",
       "    <tr>\n",
       "      <th>12</th>\n",
       "      <td>RMA</td>\n",
       "      <td>F.Valverde</td>\n",
       "      <td>Passe Precise</td>\n",
       "    </tr>\n",
       "    <tr>\n",
       "      <th>13</th>\n",
       "      <td>RMA</td>\n",
       "      <td>E.Camavinga</td>\n",
       "      <td>Passe Precise</td>\n",
       "    </tr>\n",
       "    <tr>\n",
       "      <th>26</th>\n",
       "      <td>RMA</td>\n",
       "      <td>Rodrgyo</td>\n",
       "      <td>Passe Precise</td>\n",
       "    </tr>\n",
       "    <tr>\n",
       "      <th>28</th>\n",
       "      <td>RMA</td>\n",
       "      <td>K.Mbappe</td>\n",
       "      <td>Passe Precise</td>\n",
       "    </tr>\n",
       "    <tr>\n",
       "      <th>48</th>\n",
       "      <td>RMA</td>\n",
       "      <td>A.Tchouameni</td>\n",
       "      <td>Passe Precise</td>\n",
       "    </tr>\n",
       "    <tr>\n",
       "      <th>...</th>\n",
       "      <td>...</td>\n",
       "      <td>...</td>\n",
       "      <td>...</td>\n",
       "    </tr>\n",
       "    <tr>\n",
       "      <th>562</th>\n",
       "      <td>RMA</td>\n",
       "      <td>F.Mendy</td>\n",
       "      <td>Passe Precise</td>\n",
       "    </tr>\n",
       "    <tr>\n",
       "      <th>564</th>\n",
       "      <td>RMA</td>\n",
       "      <td>Rodrgyo</td>\n",
       "      <td>Passe Precise</td>\n",
       "    </tr>\n",
       "    <tr>\n",
       "      <th>570</th>\n",
       "      <td>RMA</td>\n",
       "      <td>D.Ceballos</td>\n",
       "      <td>Passe Precise</td>\n",
       "    </tr>\n",
       "    <tr>\n",
       "      <th>572</th>\n",
       "      <td>RMA</td>\n",
       "      <td>J.Bellingham</td>\n",
       "      <td>Passe Precise</td>\n",
       "    </tr>\n",
       "    <tr>\n",
       "      <th>573</th>\n",
       "      <td>RMA</td>\n",
       "      <td>E.Camavinga</td>\n",
       "      <td>Passe Precise</td>\n",
       "    </tr>\n",
       "  </tbody>\n",
       "</table>\n",
       "<p>162 rows × 3 columns</p>\n",
       "</div>"
      ],
      "text/plain": [
       "    Team        Player          Event\n",
       "12   RMA    F.Valverde  Passe Precise\n",
       "13   RMA   E.Camavinga  Passe Precise\n",
       "26   RMA       Rodrgyo  Passe Precise\n",
       "28   RMA      K.Mbappe  Passe Precise\n",
       "48   RMA  A.Tchouameni  Passe Precise\n",
       "..   ...           ...            ...\n",
       "562  RMA       F.Mendy  Passe Precise\n",
       "564  RMA       Rodrgyo  Passe Precise\n",
       "570  RMA    D.Ceballos  Passe Precise\n",
       "572  RMA  J.Bellingham  Passe Precise\n",
       "573  RMA   E.Camavinga  Passe Precise\n",
       "\n",
       "[162 rows x 3 columns]"
      ]
     },
     "execution_count": 47,
     "metadata": {},
     "output_type": "execute_result"
    }
   ],
   "source": [
    "passes_precis_Away = passes_Away[passes_Away[\"Event\"] == \"Passe Precise\"]\n",
    "passes_precis_Away"
   ]
  },
  {
   "cell_type": "code",
   "execution_count": 48,
   "metadata": {},
   "outputs": [
    {
     "name": "stdout",
     "output_type": "stream",
     "text": [
      "Nombre Total de Passes (réussi): 255(223)\n",
      "87.45%\n"
     ]
    }
   ],
   "source": [
    "total_passes_home = len(passes_Home)\n",
    "total_passes_precis_home = len(passes_precis_Home)\n",
    "print(f'Nombre Total de Passes (réussi): {total_passes_home}({total_passes_precis_home})')\n",
    "pourcentage_passes_precis_home = (total_passes_precis_home * 100) / total_passes_home\n",
    "print(f'{pourcentage_passes_precis_home:.2f}%')"
   ]
  },
  {
   "cell_type": "code",
   "execution_count": 49,
   "metadata": {},
   "outputs": [
    {
     "name": "stdout",
     "output_type": "stream",
     "text": [
      "Nombre Total de Passes (réussi): 196(162)\n",
      "82.65%\n"
     ]
    }
   ],
   "source": [
    "total_passes_away = len(passes_Away)\n",
    "total_passes_precis_away = len(passes_precis_Away)\n",
    "print(f'Nombre Total de Passes (réussi): {total_passes_away}({total_passes_precis_away})')\n",
    "pourcentage_passes_precis_away = (total_passes_precis_away * 100) / total_passes_away\n",
    "print(f'{pourcentage_passes_precis_away:.2f}%')"
   ]
  },
  {
   "cell_type": "code",
   "execution_count": 50,
   "metadata": {},
   "outputs": [],
   "source": [
    "types_de_tir = ['Tir Cadre', 'Tir non Cadre', 'Tir Bloce', 'Poteau']"
   ]
  },
  {
   "cell_type": "code",
   "execution_count": 51,
   "metadata": {},
   "outputs": [
    {
     "name": "stdout",
     "output_type": "stream",
     "text": [
      "    Team     Player          Event\n",
      "179  MCI    Savinho  Tir non Cadre\n",
      "379  MCI    P.Foden      Tir Cadre\n",
      "394  MCI  E.Haaland      Tir Bloce\n",
      "397  MCI   M.Akanji         Poteau\n",
      "Nombre de tirs(cadré): 4(2)\n"
     ]
    }
   ],
   "source": [
    "tirs_home = df[(df['Team'] == home) & (df['Event'].isin(types_de_tir))]\n",
    "print(tirs_home)\n",
    "nbr_tir_home = len(tirs_home)\n",
    "tirs_fra_cadre_home = df[(df['Team'] == home) & ((df['Event']==\"Tir Cadre\") | (df['Event']=='Poteau'))]\n",
    "nbr_tir_cadre_home = len(tirs_fra_cadre_home)\n",
    "print(f\"Nombre de tirs(cadré): {nbr_tir_home}({nbr_tir_cadre_home})\")"
   ]
  },
  {
   "cell_type": "code",
   "execution_count": 52,
   "metadata": {},
   "outputs": [
    {
     "name": "stdout",
     "output_type": "stream",
     "text": [
      "    Team      Player          Event\n",
      "133  RMA    K.Mbappe      Tir Cadre\n",
      "148  RMA     F.Mendy      Tir Bloce\n",
      "152  RMA  D.Ceballos  Tir non Cadre\n",
      "258  RMA  ViniciusJR         Poteau\n",
      "267  RMA     Rodrgyo      Tir Bloce\n",
      "307  RMA  D.Ceballos  Tir non Cadre\n",
      "475  RMA  F.Valverde      Tir Cadre\n",
      "548  RMA    K.Mbappe      Tir Bloce\n",
      "565  RMA    K.Mbappe  Tir non Cadre\n",
      "Nombre de tirs(cadré): 9(3)\n"
     ]
    }
   ],
   "source": [
    "tirs_away = df[(df['Team'] == away) & (df['Event'].isin(types_de_tir))]\n",
    "print(tirs_away)\n",
    "nbr_tir_away = len(tirs_away)\n",
    "tirs_fra_cadre_away = df[(df['Team'] == away) & ((df['Event']==\"Tir Cadre\") | (df['Event']=='Poteau'))]\n",
    "nbr_tir_cadre_away = len(tirs_fra_cadre_away)\n",
    "print(f\"Nombre de tirs(cadré): {nbr_tir_away}({nbr_tir_cadre_away})\")"
   ]
  },
  {
   "cell_type": "code",
   "execution_count": 53,
   "metadata": {},
   "outputs": [
    {
     "name": "stdout",
     "output_type": "stream",
     "text": [
      "Grosse Occasions: 4\n"
     ]
    }
   ],
   "source": [
    "grosse_occ_home = df[(df['Team'] == home) & (df['Event']==\"Grosse Occasion\")]\n",
    "nbr_grosse_occ_home = len(grosse_occ_home)\n",
    "print(f\"Grosse Occasions: {nbr_grosse_occ_home}\")"
   ]
  },
  {
   "cell_type": "code",
   "execution_count": 54,
   "metadata": {},
   "outputs": [
    {
     "name": "stdout",
     "output_type": "stream",
     "text": [
      "Grosse Occasions: 5\n"
     ]
    }
   ],
   "source": [
    "grosse_occ_away = df[(df['Team'] == away) & (df['Event']==\"Grosse Occasion\")]\n",
    "nbr_grosse_occ_away = len(grosse_occ_away)\n",
    "print(f\"Grosse Occasions: {nbr_grosse_occ_away}\")"
   ]
  },
  {
   "cell_type": "code",
   "execution_count": 55,
   "metadata": {},
   "outputs": [
    {
     "name": "stdout",
     "output_type": "stream",
     "text": [
      "Arret du Gardient: 1\n"
     ]
    }
   ],
   "source": [
    "arr_gardien_home = df[(df['Team'] == home) & (df['Event']==\"Arret du Gardien\")]\n",
    "nbr_arr_gardien_home = len(arr_gardien_home)\n",
    "print(f\"Arret du Gardient: {nbr_arr_gardien_home}\")"
   ]
  },
  {
   "cell_type": "code",
   "execution_count": 56,
   "metadata": {},
   "outputs": [
    {
     "name": "stdout",
     "output_type": "stream",
     "text": [
      "Arret du Gardient: 1\n"
     ]
    }
   ],
   "source": [
    "arr_gardien_away = df[(df['Team'] == away) & (df['Event']==\"Arret du Gardien\")]\n",
    "nbr_arr_gardien_away = len(arr_gardien_away)\n",
    "print(f\"Arret du Gardient: {nbr_arr_gardien_away}\")"
   ]
  },
  {
   "cell_type": "code",
   "execution_count": 57,
   "metadata": {},
   "outputs": [
    {
     "name": "stdout",
     "output_type": "stream",
     "text": [
      "Corners: 4\n"
     ]
    }
   ],
   "source": [
    "corner_home = df[(df['Team'] == home) & (df['Event']==\"Corner\")]\n",
    "nbr_corner_home = len(corner_home)\n",
    "print(f\"Corners: {nbr_corner_home}\")"
   ]
  },
  {
   "cell_type": "code",
   "execution_count": 58,
   "metadata": {},
   "outputs": [
    {
     "name": "stdout",
     "output_type": "stream",
     "text": [
      "Corners: 4\n"
     ]
    }
   ],
   "source": [
    "corner_away = df[(df['Team'] == away) & (df['Event']==\"Corner\")]\n",
    "nbr_corner_away = len(corner_away)\n",
    "print(f\"Corners: {nbr_corner_away}\")"
   ]
  },
  {
   "cell_type": "code",
   "execution_count": 59,
   "metadata": {},
   "outputs": [
    {
     "data": {
      "text/plain": [
       "'tacle_home = df[(df[\\'Team\\'] == home) & (df[\\'Event\\']==\"Tackle\")]\\nnbr_tacle_home = len(tacle_home)\\nprint(f\"Tacles: {nbr_tacle_home}\")'"
      ]
     },
     "execution_count": 59,
     "metadata": {},
     "output_type": "execute_result"
    }
   ],
   "source": [
    "'''tacle_home = df[(df['Team'] == home) & (df['Event']==\"Tackle\")]\n",
    "nbr_tacle_home = len(tacle_home)\n",
    "print(f\"Tacles: {nbr_tacle_home}\")'''"
   ]
  },
  {
   "cell_type": "code",
   "execution_count": 60,
   "metadata": {},
   "outputs": [
    {
     "data": {
      "text/plain": [
       "'tacle_away = df[(df[\\'Team\\'] == away) & (df[\\'Event\\']==\"Tackle\")]\\nnbr_tacle_away = len(tacle_away)\\nprint(f\"Tacles: {nbr_tacle_away}\")'"
      ]
     },
     "execution_count": 60,
     "metadata": {},
     "output_type": "execute_result"
    }
   ],
   "source": [
    "'''tacle_away = df[(df['Team'] == away) & (df['Event']==\"Tackle\")]\n",
    "nbr_tacle_away = len(tacle_away)\n",
    "print(f\"Tacles: {nbr_tacle_away}\")'''"
   ]
  },
  {
   "cell_type": "code",
   "execution_count": 61,
   "metadata": {},
   "outputs": [
    {
     "name": "stdout",
     "output_type": "stream",
     "text": [
      "Fautes: 3\n"
     ]
    }
   ],
   "source": [
    "faute_home = df[(df['Team'] == home) & (df['Event']==\"Faute\")]\n",
    "nbr_faute_home = len(faute_home)\n",
    "print(f\"Fautes: {nbr_faute_home}\")"
   ]
  },
  {
   "cell_type": "code",
   "execution_count": 62,
   "metadata": {},
   "outputs": [
    {
     "name": "stdout",
     "output_type": "stream",
     "text": [
      "Fautes: 2\n"
     ]
    }
   ],
   "source": [
    "faute_away = df[(df['Team'] == away) & (df['Event']==\"Faute\")]\n",
    "nbr_faute_away = len(faute_away)\n",
    "print(f\"Fautes: {nbr_faute_away}\")"
   ]
  },
  {
   "cell_type": "code",
   "execution_count": 63,
   "metadata": {},
   "outputs": [
    {
     "name": "stdout",
     "output_type": "stream",
     "text": [
      "Cartons Jaune: 0\n"
     ]
    }
   ],
   "source": [
    "carton_jaune_home = df[(df['Team'] == home) & (df['Event']==\"C.Jaune\")]\n",
    "nbr_carton_jaune_home = len(carton_jaune_home)\n",
    "print(f'Cartons Jaune: {nbr_carton_jaune_home}')"
   ]
  },
  {
   "cell_type": "code",
   "execution_count": 64,
   "metadata": {},
   "outputs": [
    {
     "name": "stdout",
     "output_type": "stream",
     "text": [
      "Cartons Jaune: 0\n"
     ]
    }
   ],
   "source": [
    "carton_jaune_away = df[(df['Team'] == away) & (df['Event']==\"C.Jaune\")]\n",
    "nbr_carton_jaune_away = len(carton_jaune_away)\n",
    "print(f'Cartons Jaune: {nbr_carton_jaune_away}')"
   ]
  },
  {
   "cell_type": "code",
   "execution_count": 69,
   "metadata": {},
   "outputs": [
    {
     "name": "stdout",
     "output_type": "stream",
     "text": [
      "Possession: 58% - 42%\n"
     ]
    }
   ],
   "source": [
    "nbr_total_passes = total_passes_precis_home + total_passes_precis_away\n",
    "\n",
    "possession_home = round((total_passes_precis_home / nbr_total_passes) * 100)\n",
    "possession_away = round((total_passes_precis_away / nbr_total_passes) * 100)\n",
    "print(f'Possession: {possession_home}% - {possession_away}%')"
   ]
  },
  {
   "cell_type": "code",
   "execution_count": 70,
   "metadata": {},
   "outputs": [
    {
     "name": "stdout",
     "output_type": "stream",
     "text": [
      "Manchester City vs Real Madrid : (1ére mi-temps)\n",
      "\n",
      "Nombre Total de Passes (réussi): 255(223) 87.45% - 196(162) 82.65%\n",
      "Possession: 58% - 42%\n",
      "Nombre de tirs(cadré): 4(2) - 9(3)\n",
      "Grosse Occasions: 4 - 5\n",
      "Arret du Gardient: 1 - 1\n",
      "Corners: 4 - 4\n",
      "Fautes: 3 - 2\n",
      "Cartons Jaune: 0 - 0\n"
     ]
    }
   ],
   "source": [
    "print(\"Manchester City vs Real Madrid : (1ére mi-temps)\\n\")\n",
    "print(f'Nombre Total de Passes (réussi): {total_passes_home}({total_passes_precis_home}) {pourcentage_passes_precis_home:.2f}% - {total_passes_away}({total_passes_precis_away}) {pourcentage_passes_precis_away:.2f}%')\n",
    "print(f'Possession: {possession_home}% - {possession_away}%')\n",
    "print(f\"Nombre de tirs(cadré): {nbr_tir_home}({nbr_tir_cadre_home}) - {nbr_tir_away}({nbr_tir_cadre_away})\")\n",
    "print(f\"Grosse Occasions: {nbr_grosse_occ_home} - {nbr_grosse_occ_away}\")\n",
    "print(f\"Arret du Gardient: {nbr_arr_gardien_home} - {nbr_arr_gardien_away}\")\n",
    "print(f\"Corners: {nbr_corner_home} - {nbr_corner_away}\")\n",
    "print(f\"Fautes: {nbr_faute_home} - {nbr_faute_away}\")\n",
    "print(f'Cartons Jaune: {nbr_carton_jaune_home} - {nbr_carton_jaune_away}')"
   ]
  }
 ],
 "metadata": {
  "kernelspec": {
   "display_name": "Python 3",
   "language": "python",
   "name": "python3"
  },
  "language_info": {
   "codemirror_mode": {
    "name": "ipython",
    "version": 3
   },
   "file_extension": ".py",
   "mimetype": "text/x-python",
   "name": "python",
   "nbconvert_exporter": "python",
   "pygments_lexer": "ipython3",
   "version": "3.12.3"
  }
 },
 "nbformat": 4,
 "nbformat_minor": 2
}
