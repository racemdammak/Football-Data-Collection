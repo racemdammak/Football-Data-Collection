{
 "cells": [
  {
   "cell_type": "code",
   "execution_count": 96,
   "metadata": {},
   "outputs": [],
   "source": [
    "import pandas as pd"
   ]
  },
  {
   "cell_type": "code",
   "execution_count": 97,
   "metadata": {},
   "outputs": [
    {
     "data": {
      "text/html": [
       "<div>\n",
       "<style scoped>\n",
       "    .dataframe tbody tr th:only-of-type {\n",
       "        vertical-align: middle;\n",
       "    }\n",
       "\n",
       "    .dataframe tbody tr th {\n",
       "        vertical-align: top;\n",
       "    }\n",
       "\n",
       "    .dataframe thead th {\n",
       "        text-align: right;\n",
       "    }\n",
       "</style>\n",
       "<table border=\"1\" class=\"dataframe\">\n",
       "  <thead>\n",
       "    <tr style=\"text-align: right;\">\n",
       "      <th></th>\n",
       "      <th>Team</th>\n",
       "      <th>Player</th>\n",
       "      <th>Event</th>\n",
       "    </tr>\n",
       "  </thead>\n",
       "  <tbody>\n",
       "    <tr>\n",
       "      <th>0</th>\n",
       "      <td>FRA</td>\n",
       "      <td>L.Digne</td>\n",
       "      <td>Interception</td>\n",
       "    </tr>\n",
       "    <tr>\n",
       "      <th>1</th>\n",
       "      <td>FRA</td>\n",
       "      <td>L.Digne</td>\n",
       "      <td>Passe Perdue</td>\n",
       "    </tr>\n",
       "    <tr>\n",
       "      <th>2</th>\n",
       "      <td>FRA</td>\n",
       "      <td>J.Koundé</td>\n",
       "      <td>Interception</td>\n",
       "    </tr>\n",
       "    <tr>\n",
       "      <th>3</th>\n",
       "      <td>FRA</td>\n",
       "      <td>J.Koundé</td>\n",
       "      <td>Interception</td>\n",
       "    </tr>\n",
       "    <tr>\n",
       "      <th>4</th>\n",
       "      <td>FRA</td>\n",
       "      <td>J.Koundé</td>\n",
       "      <td>Longue Passe Perdue</td>\n",
       "    </tr>\n",
       "  </tbody>\n",
       "</table>\n",
       "</div>"
      ],
      "text/plain": [
       "  Team    Player                Event\n",
       "0  FRA   L.Digne         Interception\n",
       "1  FRA   L.Digne         Passe Perdue\n",
       "2  FRA  J.Koundé         Interception\n",
       "3  FRA  J.Koundé         Interception\n",
       "4  FRA  J.Koundé  Longue Passe Perdue"
      ]
     },
     "execution_count": 97,
     "metadata": {},
     "output_type": "execute_result"
    }
   ],
   "source": [
    "df = pd.read_csv(\"FRAvsBEL.csv\")\n",
    "df.head()"
   ]
  },
  {
   "cell_type": "code",
   "execution_count": 98,
   "metadata": {},
   "outputs": [
    {
     "data": {
      "text/html": [
       "<div>\n",
       "<style scoped>\n",
       "    .dataframe tbody tr th:only-of-type {\n",
       "        vertical-align: middle;\n",
       "    }\n",
       "\n",
       "    .dataframe tbody tr th {\n",
       "        vertical-align: top;\n",
       "    }\n",
       "\n",
       "    .dataframe thead th {\n",
       "        text-align: right;\n",
       "    }\n",
       "</style>\n",
       "<table border=\"1\" class=\"dataframe\">\n",
       "  <thead>\n",
       "    <tr style=\"text-align: right;\">\n",
       "      <th></th>\n",
       "      <th>Player</th>\n",
       "      <th>Event</th>\n",
       "    </tr>\n",
       "  </thead>\n",
       "  <tbody>\n",
       "    <tr>\n",
       "      <th>0</th>\n",
       "      <td>L.Digne</td>\n",
       "      <td>Interception</td>\n",
       "    </tr>\n",
       "    <tr>\n",
       "      <th>1</th>\n",
       "      <td>L.Digne</td>\n",
       "      <td>Passe Perdue</td>\n",
       "    </tr>\n",
       "    <tr>\n",
       "      <th>2</th>\n",
       "      <td>J.Koundé</td>\n",
       "      <td>Interception</td>\n",
       "    </tr>\n",
       "    <tr>\n",
       "      <th>3</th>\n",
       "      <td>J.Koundé</td>\n",
       "      <td>Interception</td>\n",
       "    </tr>\n",
       "    <tr>\n",
       "      <th>4</th>\n",
       "      <td>J.Koundé</td>\n",
       "      <td>Longue Passe Perdue</td>\n",
       "    </tr>\n",
       "    <tr>\n",
       "      <th>...</th>\n",
       "      <td>...</td>\n",
       "      <td>...</td>\n",
       "    </tr>\n",
       "    <tr>\n",
       "      <th>250</th>\n",
       "      <td>J.Koundé</td>\n",
       "      <td>Passe en Profondeur</td>\n",
       "    </tr>\n",
       "    <tr>\n",
       "      <th>251</th>\n",
       "      <td>N.Kanté</td>\n",
       "      <td>Tir Bloce</td>\n",
       "    </tr>\n",
       "    <tr>\n",
       "      <th>252</th>\n",
       "      <td>R.KoloMuani</td>\n",
       "      <td>Passe Precise</td>\n",
       "    </tr>\n",
       "    <tr>\n",
       "      <th>253</th>\n",
       "      <td>O.Dembélé</td>\n",
       "      <td>Corner</td>\n",
       "    </tr>\n",
       "    <tr>\n",
       "      <th>254</th>\n",
       "      <td>J.Koundé</td>\n",
       "      <td>Tir non Cadre</td>\n",
       "    </tr>\n",
       "  </tbody>\n",
       "</table>\n",
       "<p>255 rows × 2 columns</p>\n",
       "</div>"
      ],
      "text/plain": [
       "          Player                Event\n",
       "0        L.Digne         Interception\n",
       "1        L.Digne         Passe Perdue\n",
       "2       J.Koundé         Interception\n",
       "3       J.Koundé         Interception\n",
       "4       J.Koundé  Longue Passe Perdue\n",
       "..           ...                  ...\n",
       "250     J.Koundé  Passe en Profondeur\n",
       "251      N.Kanté            Tir Bloce\n",
       "252  R.KoloMuani        Passe Precise\n",
       "253    O.Dembélé               Corner\n",
       "254     J.Koundé        Tir non Cadre\n",
       "\n",
       "[255 rows x 2 columns]"
      ]
     },
     "execution_count": 98,
     "metadata": {},
     "output_type": "execute_result"
    }
   ],
   "source": [
    "player_event = df[[\"Player\", \"Event\"]]\n",
    "player_event"
   ]
  },
  {
   "cell_type": "markdown",
   "metadata": {},
   "source": [
    "# Pour Obtenir les stats d'un joueur spécifique"
   ]
  },
  {
   "cell_type": "markdown",
   "metadata": {},
   "source": [
    "K_Mbappe = []\n",
    "\n",
    "for index, player in df.iterrows():\n",
    "    if player['Player'] == \"K.Mbappe\":\n",
    "        K_Mbappe.append(player['Event'])\n",
    "K_Mbappe"
   ]
  },
  {
   "cell_type": "markdown",
   "metadata": {},
   "source": [
    "# Pour obtenir le nombre des Passes"
   ]
  },
  {
   "cell_type": "code",
   "execution_count": 99,
   "metadata": {},
   "outputs": [],
   "source": [
    "types_de_passe = [\"Passe Precise\", \"Passe Perdue\", \"Longue Passe Precise\", \"Longue Passe Perdue\",\n",
    "                \"Passe en Profondeur\",\"Centrage Precis\", \"Centrage non Precis\", \"Assiste\"]"
   ]
  },
  {
   "cell_type": "code",
   "execution_count": 100,
   "metadata": {},
   "outputs": [
    {
     "data": {
      "text/html": [
       "<div>\n",
       "<style scoped>\n",
       "    .dataframe tbody tr th:only-of-type {\n",
       "        vertical-align: middle;\n",
       "    }\n",
       "\n",
       "    .dataframe tbody tr th {\n",
       "        vertical-align: top;\n",
       "    }\n",
       "\n",
       "    .dataframe thead th {\n",
       "        text-align: right;\n",
       "    }\n",
       "</style>\n",
       "<table border=\"1\" class=\"dataframe\">\n",
       "  <thead>\n",
       "    <tr style=\"text-align: right;\">\n",
       "      <th></th>\n",
       "      <th>Team</th>\n",
       "      <th>Player</th>\n",
       "      <th>Event</th>\n",
       "    </tr>\n",
       "  </thead>\n",
       "  <tbody>\n",
       "    <tr>\n",
       "      <th>1</th>\n",
       "      <td>FRA</td>\n",
       "      <td>L.Digne</td>\n",
       "      <td>Passe Perdue</td>\n",
       "    </tr>\n",
       "    <tr>\n",
       "      <th>4</th>\n",
       "      <td>FRA</td>\n",
       "      <td>J.Koundé</td>\n",
       "      <td>Longue Passe Perdue</td>\n",
       "    </tr>\n",
       "    <tr>\n",
       "      <th>5</th>\n",
       "      <td>FRA</td>\n",
       "      <td>M.Maignan</td>\n",
       "      <td>Passe Precise</td>\n",
       "    </tr>\n",
       "    <tr>\n",
       "      <th>8</th>\n",
       "      <td>FRA</td>\n",
       "      <td>L.Digne</td>\n",
       "      <td>Passe Precise</td>\n",
       "    </tr>\n",
       "    <tr>\n",
       "      <th>9</th>\n",
       "      <td>FRA</td>\n",
       "      <td>M.Guendouzi</td>\n",
       "      <td>Passe Precise</td>\n",
       "    </tr>\n",
       "    <tr>\n",
       "      <th>...</th>\n",
       "      <td>...</td>\n",
       "      <td>...</td>\n",
       "      <td>...</td>\n",
       "    </tr>\n",
       "    <tr>\n",
       "      <th>247</th>\n",
       "      <td>FRA</td>\n",
       "      <td>M.Koné</td>\n",
       "      <td>Passe Precise</td>\n",
       "    </tr>\n",
       "    <tr>\n",
       "      <th>248</th>\n",
       "      <td>FRA</td>\n",
       "      <td>M.Guendouzi</td>\n",
       "      <td>Passe Precise</td>\n",
       "    </tr>\n",
       "    <tr>\n",
       "      <th>249</th>\n",
       "      <td>FRA</td>\n",
       "      <td>N.Kanté</td>\n",
       "      <td>Passe Precise</td>\n",
       "    </tr>\n",
       "    <tr>\n",
       "      <th>250</th>\n",
       "      <td>FRA</td>\n",
       "      <td>J.Koundé</td>\n",
       "      <td>Passe en Profondeur</td>\n",
       "    </tr>\n",
       "    <tr>\n",
       "      <th>252</th>\n",
       "      <td>FRA</td>\n",
       "      <td>R.KoloMuani</td>\n",
       "      <td>Passe Precise</td>\n",
       "    </tr>\n",
       "  </tbody>\n",
       "</table>\n",
       "<p>190 rows × 3 columns</p>\n",
       "</div>"
      ],
      "text/plain": [
       "    Team       Player                Event\n",
       "1    FRA      L.Digne         Passe Perdue\n",
       "4    FRA     J.Koundé  Longue Passe Perdue\n",
       "5    FRA    M.Maignan        Passe Precise\n",
       "8    FRA      L.Digne        Passe Precise\n",
       "9    FRA  M.Guendouzi        Passe Precise\n",
       "..   ...          ...                  ...\n",
       "247  FRA       M.Koné        Passe Precise\n",
       "248  FRA  M.Guendouzi        Passe Precise\n",
       "249  FRA      N.Kanté        Passe Precise\n",
       "250  FRA     J.Koundé  Passe en Profondeur\n",
       "252  FRA  R.KoloMuani        Passe Precise\n",
       "\n",
       "[190 rows x 3 columns]"
      ]
     },
     "execution_count": 100,
     "metadata": {},
     "output_type": "execute_result"
    }
   ],
   "source": [
    "passes_Home = df[(df['Team'] == 'FRA') & (df['Event'].isin(types_de_passe))]\n",
    "passes_Home"
   ]
  },
  {
   "cell_type": "code",
   "execution_count": 101,
   "metadata": {},
   "outputs": [
    {
     "data": {
      "text/html": [
       "<div>\n",
       "<style scoped>\n",
       "    .dataframe tbody tr th:only-of-type {\n",
       "        vertical-align: middle;\n",
       "    }\n",
       "\n",
       "    .dataframe tbody tr th {\n",
       "        vertical-align: top;\n",
       "    }\n",
       "\n",
       "    .dataframe thead th {\n",
       "        text-align: right;\n",
       "    }\n",
       "</style>\n",
       "<table border=\"1\" class=\"dataframe\">\n",
       "  <thead>\n",
       "    <tr style=\"text-align: right;\">\n",
       "      <th></th>\n",
       "      <th>Team</th>\n",
       "      <th>Player</th>\n",
       "      <th>Event</th>\n",
       "    </tr>\n",
       "  </thead>\n",
       "  <tbody>\n",
       "    <tr>\n",
       "      <th>5</th>\n",
       "      <td>FRA</td>\n",
       "      <td>M.Maignan</td>\n",
       "      <td>Passe Precise</td>\n",
       "    </tr>\n",
       "    <tr>\n",
       "      <th>8</th>\n",
       "      <td>FRA</td>\n",
       "      <td>L.Digne</td>\n",
       "      <td>Passe Precise</td>\n",
       "    </tr>\n",
       "    <tr>\n",
       "      <th>9</th>\n",
       "      <td>FRA</td>\n",
       "      <td>M.Guendouzi</td>\n",
       "      <td>Passe Precise</td>\n",
       "    </tr>\n",
       "    <tr>\n",
       "      <th>11</th>\n",
       "      <td>FRA</td>\n",
       "      <td>M.Maignan</td>\n",
       "      <td>Passe Precise</td>\n",
       "    </tr>\n",
       "    <tr>\n",
       "      <th>12</th>\n",
       "      <td>FRA</td>\n",
       "      <td>W.Salib</td>\n",
       "      <td>Passe Precise</td>\n",
       "    </tr>\n",
       "    <tr>\n",
       "      <th>...</th>\n",
       "      <td>...</td>\n",
       "      <td>...</td>\n",
       "      <td>...</td>\n",
       "    </tr>\n",
       "    <tr>\n",
       "      <th>246</th>\n",
       "      <td>FRA</td>\n",
       "      <td>M.Guendouzi</td>\n",
       "      <td>Passe Precise</td>\n",
       "    </tr>\n",
       "    <tr>\n",
       "      <th>247</th>\n",
       "      <td>FRA</td>\n",
       "      <td>M.Koné</td>\n",
       "      <td>Passe Precise</td>\n",
       "    </tr>\n",
       "    <tr>\n",
       "      <th>248</th>\n",
       "      <td>FRA</td>\n",
       "      <td>M.Guendouzi</td>\n",
       "      <td>Passe Precise</td>\n",
       "    </tr>\n",
       "    <tr>\n",
       "      <th>249</th>\n",
       "      <td>FRA</td>\n",
       "      <td>N.Kanté</td>\n",
       "      <td>Passe Precise</td>\n",
       "    </tr>\n",
       "    <tr>\n",
       "      <th>252</th>\n",
       "      <td>FRA</td>\n",
       "      <td>R.KoloMuani</td>\n",
       "      <td>Passe Precise</td>\n",
       "    </tr>\n",
       "  </tbody>\n",
       "</table>\n",
       "<p>163 rows × 3 columns</p>\n",
       "</div>"
      ],
      "text/plain": [
       "    Team       Player          Event\n",
       "5    FRA    M.Maignan  Passe Precise\n",
       "8    FRA      L.Digne  Passe Precise\n",
       "9    FRA  M.Guendouzi  Passe Precise\n",
       "11   FRA    M.Maignan  Passe Precise\n",
       "12   FRA      W.Salib  Passe Precise\n",
       "..   ...          ...            ...\n",
       "246  FRA  M.Guendouzi  Passe Precise\n",
       "247  FRA       M.Koné  Passe Precise\n",
       "248  FRA  M.Guendouzi  Passe Precise\n",
       "249  FRA      N.Kanté  Passe Precise\n",
       "252  FRA  R.KoloMuani  Passe Precise\n",
       "\n",
       "[163 rows x 3 columns]"
      ]
     },
     "execution_count": 101,
     "metadata": {},
     "output_type": "execute_result"
    }
   ],
   "source": [
    "passes_precis_Home = passes_Home[passes_Home[\"Event\"] == \"Passe Precise\"]\n",
    "passes_precis_Home"
   ]
  },
  {
   "cell_type": "code",
   "execution_count": 102,
   "metadata": {},
   "outputs": [
    {
     "name": "stdout",
     "output_type": "stream",
     "text": [
      "Nombre Total de Passes (réussi): 190(163)\n",
      "85.79%\n"
     ]
    }
   ],
   "source": [
    "total_passes = len(passes_Home)\n",
    "total_precis_passes = len(passes_precis_Home)\n",
    "print(f'Nombre Total de Passes (réussi): {total_passes}({total_precis_passes})')\n",
    "pourcentage_passes_precis = (total_precis_passes * 100) / total_passes\n",
    "print(f'{pourcentage_passes_precis:.2f}%')"
   ]
  },
  {
   "cell_type": "code",
   "execution_count": 103,
   "metadata": {},
   "outputs": [],
   "source": [
    "types_de_tir = ['Tir Cadre', 'Tir non Cadre', 'Tir Bloce']"
   ]
  },
  {
   "cell_type": "code",
   "execution_count": 104,
   "metadata": {},
   "outputs": [
    {
     "name": "stdout",
     "output_type": "stream",
     "text": [
      "    Team       Player          Event\n",
      "53   FRA  M.Guendouzi      Tir Cadre\n",
      "80   FRA     M.Thuram      Tir Cadre\n",
      "93   FRA     M.Thuram  Tir non Cadre\n",
      "103  FRA  R.KoloMuani  Tir non Cadre\n",
      "116  FRA  M.Guendouzi      Tir Bloce\n",
      "118  FRA  D.Upamecano  Tir non Cadre\n",
      "136  FRA     M.Thuram      Tir Cadre\n",
      "251  FRA      N.Kanté      Tir Bloce\n",
      "254  FRA     J.Koundé  Tir non Cadre\n",
      "Nombre de tirs(cadré): 9(3)\n"
     ]
    }
   ],
   "source": [
    "tirs_fra = df[(df['Team'] == 'FRA') & (df['Event'].isin(types_de_tir))]\n",
    "print(tirs_fra)\n",
    "nbr_tir_fra = len(tirs_fra)\n",
    "tirs_fra_cadre = df[(df['Team'] == 'FRA') & (df['Event']==\"Tir Cadre\")]\n",
    "nbr_tir_cadre_fra = len(tirs_fra_cadre)\n",
    "print(f\"Nombre de tirs(cadré): {nbr_tir_fra}({nbr_tir_cadre_fra})\")"
   ]
  },
  {
   "cell_type": "code",
   "execution_count": 105,
   "metadata": {},
   "outputs": [
    {
     "name": "stdout",
     "output_type": "stream",
     "text": [
      "Grosse Occasions: 1\n"
     ]
    }
   ],
   "source": [
    "grosse_occ = df[(df['Team'] == 'FRA') & (df['Event']==\"Grosse Occasion\")]\n",
    "nbr_grosse_occ = len(grosse_occ)\n",
    "print(f\"Grosse Occasions: {nbr_grosse_occ}\")"
   ]
  },
  {
   "cell_type": "code",
   "execution_count": 106,
   "metadata": {},
   "outputs": [
    {
     "name": "stdout",
     "output_type": "stream",
     "text": [
      "Arret du Gardient: 2\n"
     ]
    }
   ],
   "source": [
    "arr_gardien = df[(df['Team'] == 'FRA') & (df['Event']==\"Arret du Gardien\")]\n",
    "nbr_arr_gardien = len(arr_gardien)\n",
    "print(f\"Arret du Gardient: {nbr_arr_gardien}\")"
   ]
  },
  {
   "cell_type": "code",
   "execution_count": 107,
   "metadata": {},
   "outputs": [
    {
     "name": "stdout",
     "output_type": "stream",
     "text": [
      "Corners: 2\n"
     ]
    }
   ],
   "source": [
    "corner = df[(df['Team'] == 'FRA') & (df['Event']==\"Corner\")]\n",
    "nbr_corner = len(corner)\n",
    "print(f\"Corners: {nbr_corner}\")"
   ]
  },
  {
   "cell_type": "code",
   "execution_count": 108,
   "metadata": {},
   "outputs": [
    {
     "name": "stdout",
     "output_type": "stream",
     "text": [
      "Tacles: 0\n"
     ]
    }
   ],
   "source": [
    "tacle = df[(df['Team'] == 'FRA') & (df['Event']==\"Tackle\")]\n",
    "nbr_tacle = len(tacle)\n",
    "print(f\"Tacles: {nbr_tacle}\")"
   ]
  },
  {
   "cell_type": "code",
   "execution_count": 109,
   "metadata": {},
   "outputs": [
    {
     "name": "stdout",
     "output_type": "stream",
     "text": [
      "Fautes: 5\n"
     ]
    }
   ],
   "source": [
    "faute = df[(df['Team'] == 'FRA') & (df['Event']==\"Faute\")]\n",
    "nbr_faute = len(faute)\n",
    "print(f\"Fautes: {nbr_faute}\")"
   ]
  },
  {
   "cell_type": "code",
   "execution_count": 110,
   "metadata": {},
   "outputs": [
    {
     "name": "stdout",
     "output_type": "stream",
     "text": [
      "Cartons Jaune: 2\n"
     ]
    }
   ],
   "source": [
    "carton_jaune = df[(df['Team'] == 'FRA') & (df['Event']==\"C.Jaune\")]\n",
    "nbr_carton_jaune = len(carton_jaune)\n",
    "print(f'Cartons Jaune: {nbr_carton_jaune}')"
   ]
  },
  {
   "cell_type": "code",
   "execution_count": 118,
   "metadata": {},
   "outputs": [
    {
     "name": "stdout",
     "output_type": "stream",
     "text": [
      "France vs Belgique:\n",
      "\n",
      "Nombre Total de Passes (réussi): 190(163) 85.79%\n",
      "Nombre de tirs(cadré): 9(3)\n",
      "Grosse Occasions: 1\n",
      "Arret du Gardient: 2\n",
      "Corners: 2\n",
      "Fautes: 5\n",
      "Cartons Jaune: 2\n"
     ]
    }
   ],
   "source": [
    "print(\"France vs Belgique:\\n\")\n",
    "print(f'Nombre Total de Passes (réussi): {total_passes}({total_precis_passes}) {pourcentage_passes_precis:.2f}%')\n",
    "print(f\"Nombre de tirs(cadré): {nbr_tir_fra}({nbr_tir_cadre_fra})\")\n",
    "print(f\"Grosse Occasions: {nbr_grosse_occ}\")\n",
    "print(f\"Arret du Gardient: {nbr_arr_gardien}\")\n",
    "print(f\"Corners: {nbr_corner}\")\n",
    "print(f\"Fautes: {nbr_faute}\")\n",
    "print(f'Cartons Jaune: {nbr_carton_jaune}')"
   ]
  }
 ],
 "metadata": {
  "kernelspec": {
   "display_name": "Python 3",
   "language": "python",
   "name": "python3"
  },
  "language_info": {
   "codemirror_mode": {
    "name": "ipython",
    "version": 3
   },
   "file_extension": ".py",
   "mimetype": "text/x-python",
   "name": "python",
   "nbconvert_exporter": "python",
   "pygments_lexer": "ipython3",
   "version": "3.12.3"
  }
 },
 "nbformat": 4,
 "nbformat_minor": 2
}
